{
 "cells": [
  {
   "cell_type": "code",
   "execution_count": null,
   "id": "fbba0647-82cd-4e67-974f-0456eba199c3",
   "metadata": {},
   "outputs": [],
   "source": [
    "a=str(input(\"player 1 --> sang,kaghaz ya gheychi?🎲\"))\n",
    "b=str(input(\"player 2 --> sang,kaghaz ya gheychi?🎲\"))\n",
    "if a==b :\n",
    "    print(\"no winner!\")\n",
    "elif a==\"sang\" and b==\"gheychi\" :\n",
    "    print(\"player 1 is winner!💎\")\n",
    "elif a==\"gheychi\" and b==\"sang\" :\n",
    "    print(\"player 2 is winner!💎\")\n",
    "elif a==\"sang\" and b==\"kaghaz\" :\n",
    "    print(\"player 2 is winner!💎\")\n",
    "elif a==\"kaghaz\" and b==\"sang\" :\n",
    "    print(\"player 1 is winner!💎\")\n",
    "elif a==\"gheychi\" and b==\"kaghaz\" :\n",
    "    print(\"player 1 is winner!💎\")\n",
    "elif a==\"kaghaz\" and b==\"gheychi\" :\n",
    "    print(\"player 2 is winner!💎\")\n",
    "else:\n",
    "    print(\"eror!❌\")"
   ]
  }
 ],
 "metadata": {
  "kernelspec": {
   "display_name": "Python 3 (ipykernel)",
   "language": "python",
   "name": "python3"
  },
  "language_info": {
   "codemirror_mode": {
    "name": "ipython",
    "version": 3
   },
   "file_extension": ".py",
   "mimetype": "text/x-python",
   "name": "python",
   "nbconvert_exporter": "python",
   "pygments_lexer": "ipython3",
   "version": "3.10.9"
  }
 },
 "nbformat": 4,
 "nbformat_minor": 5
}
